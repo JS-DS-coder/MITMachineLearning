{
  "nbformat": 4,
  "nbformat_minor": 0,
  "metadata": {
    "colab": {
      "name": "Reinforcement learning.ipynb",
      "provenance": [],
      "collapsed_sections": [],
      "authorship_tag": "ABX9TyMflVvYL1lUhMn/7ShFTqJw",
      "include_colab_link": true
    },
    "kernelspec": {
      "name": "python3",
      "display_name": "Python 3"
    },
    "language_info": {
      "name": "python"
    }
  },
  "cells": [
    {
      "cell_type": "markdown",
      "metadata": {
        "id": "view-in-github",
        "colab_type": "text"
      },
      "source": [
        "<a href=\"https://colab.research.google.com/github/JS-DS-coder/MITMachineLearning/blob/main/Reinforcement_learning.ipynb\" target=\"_parent\"><img src=\"https://colab.research.google.com/assets/colab-badge.svg\" alt=\"Open In Colab\"/></a>"
      ]
    },
    {
      "cell_type": "code",
      "source": [
        "import numpy as np\n",
        "import matplotlib.pyplot as plt\n",
        "from tqdm import tqdm\n",
        "import framework\n",
        "import utils"
      ],
      "metadata": {
        "id": "M0ps0AE3QMFa"
      },
      "execution_count": 3,
      "outputs": []
    },
    {
      "cell_type": "code",
      "source": [
        "DEBUG = False\n",
        "\n",
        "GAMMA = 0.5  # discounted factor\n",
        "TRAINING_EP = 0.5  # epsilon-greedy parameter for training\n",
        "TESTING_EP = 0.05  # epsilon-greedy parameter for testing\n",
        "NUM_RUNS = 10\n",
        "NUM_EPOCHS = 200\n",
        "NUM_EPIS_TRAIN = 25  # number of episodes for training at each epoch\n",
        "NUM_EPIS_TEST = 50  # number of episodes for testing\n",
        "ALPHA = 0.1  # learning rate for training\n",
        "\n",
        "ACTIONS = framework.get_actions()\n",
        "OBJECTS = framework.get_objects()\n",
        "NUM_ACTIONS = len(ACTIONS)\n",
        "NUM_OBJECTS = len(OBJECTS)"
      ],
      "metadata": {
        "id": "qeX1UxGJQgi_"
      },
      "execution_count": 6,
      "outputs": []
    },
    {
      "cell_type": "code",
      "source": [
        "def epsilon_greedy(state_1, state_2, q_func, epsilon):\n",
        "    \"\"\"Returns an action selected by an epsilon-Greedy exploration policy\n",
        "\n",
        "    Args:\n",
        "        state_1, state_2 (int, int): two indices describing the current state\n",
        "        q_func (np.ndarray): current Q-function\n",
        "        epsilon (float): the probability of choosing a random command\n",
        "\n",
        "    Returns:\n",
        "        (int, int): the indices describing the action/object to take\n",
        "    \"\"\"\n",
        "    # TODO Your code here\n",
        "    if np.random.binomial(1, epsilon):\n",
        "        # Randomly choose action and object\n",
        "        action_index, object_index = np.random.randint(NUM_ACTIONS, size=1), \\\n",
        "                                     np.random.randint(NUM_OBJECTS, size=1)\n",
        "    else:\n",
        "        # Choose the best action and object\n",
        "        action_index, object_index = np.unravel_index(np.argmax(q_func[\n",
        "                                                                state_1,\n",
        "                                                                state_2,\n",
        "                                                                :, :]),\n",
        "                                                      (NUM_ACTIONS, NUM_OBJECTS))\n",
        "    return (int(action_index), int(object_index))\n",
        "\n",
        "\n",
        "# pragma: coderesponse end\n",
        "\n",
        "\n",
        "# pragma: coderesponse template\n",
        "def tabular_q_learning(q_func, current_state_1, current_state_2, action_index,\n",
        "                       object_index, reward, next_state_1, next_state_2,\n",
        "                       terminal):\n",
        "    \"\"\"Update q_func for a given transition\n",
        "\n",
        "    Args:\n",
        "        q_func (np.ndarray): current Q-function\n",
        "        current_state_1, current_state_2 (int, int): two indices describing the current state\n",
        "        action_index (int): index of the current action\n",
        "        object_index (int): index of the current object\n",
        "        reward (float): the immediate reward the agent recieves from playing current command\n",
        "        next_state_1, next_state_2 (int, int): two indices describing the next state\n",
        "        terminal (bool): True if this episode is over\n",
        "\n",
        "    Returns:\n",
        "        None\n",
        "    \"\"\"\n",
        "    # TODO Your code here\n",
        "    maxq = 0\n",
        "    if terminal:\n",
        "        maxq = 0\n",
        "    else:\n",
        "        maxq = np.max(q_func[next_state_1, next_state_2, :, :])\n",
        "\n",
        "    q_func[current_state_1, current_state_2, action_index,\n",
        "           object_index] = (1 - ALPHA) * q_func[current_state_1, current_state_2,\n",
        "                                                action_index, object_index] + \\\n",
        "                           ALPHA * (reward + GAMMA * maxq)\n",
        "\n",
        "    return None  # This function shouldn't return anything\n"
      ],
      "metadata": {
        "id": "14JyD_ZWUYGc"
      },
      "execution_count": 14,
      "outputs": []
    },
    {
      "cell_type": "code",
      "source": [
        "\n",
        "# pragma: coderesponse template\n",
        "def run_episode(for_training):\n",
        "    \"\"\" Runs one episode\n",
        "    If for training, update Q function\n",
        "    If for testing, computes and return cumulative discounted reward\n",
        "\n",
        "    Args:\n",
        "        for_training (bool): True if for training\n",
        "\n",
        "    Returns:\n",
        "        None\n",
        "    \"\"\"\n",
        "    epsilon = TRAINING_EP if for_training else TESTING_EP\n",
        "\n",
        "    # initialize for each episode\n",
        "    epi_reward = 0.0\n",
        "\n",
        "    (current_room_desc, current_quest_desc, terminal) = framework.newGame()\n",
        "\n",
        "    while not terminal:\n",
        "        # Choose next action and execute\n",
        "        current_room_desc_index = dict_room_desc[current_room_desc]\n",
        "        current_quest_desc_index = dict_quest_desc[current_quest_desc]  # Get room and quest indices\n",
        "\n",
        "        next_action_index, next_object_index = epsilon_greedy(current_room_desc_index,\n",
        "                                                              current_quest_desc_index,\n",
        "                                                              q_func,\n",
        "                                                              epsilon)  # Get next action/object\n",
        "\n",
        "        next_room_desc, next_quest_desc, reward, terminal = framework.step_game(\n",
        "            current_room_desc,\n",
        "            current_quest_desc,\n",
        "            next_action_index,\n",
        "            next_object_index)  # Take a step\n",
        "\n",
        "        # Only need room index; quest remains same during an episode\n",
        "        next_room_desc_index = dict_room_desc[next_room_desc]\n",
        "\n",
        "        if for_training:\n",
        "            # update Q-function.\n",
        "            tabular_q_learning(q_func, current_room_desc_index, current_quest_desc_index,\n",
        "                               next_action_index, next_object_index, reward,\n",
        "                               next_room_desc_index, current_quest_desc_index,\n",
        "                               terminal)\n",
        "\n",
        "        if not for_training:\n",
        "            # update reward\n",
        "            epi_reward += (GAMMA ** (framework.STEP_COUNT - 1)) * reward\n",
        "\n",
        "            # prepare next step\n",
        "        current_room_desc, current_quest_desc = next_room_desc, next_quest_desc\n",
        "\n",
        "    if not for_training:\n",
        "        return epi_reward"
      ],
      "metadata": {
        "id": "ggMewh3LUK6d"
      },
      "execution_count": 15,
      "outputs": []
    },
    {
      "cell_type": "code",
      "source": [
        "def run_epoch():\n",
        "    \"\"\"Runs one epoch and returns reward averaged over test episodes\"\"\"\n",
        "    rewards = []\n",
        "\n",
        "    for _ in range(NUM_EPIS_TRAIN):\n",
        "        run_episode(for_training=True)\n",
        "\n",
        "    for _ in range(NUM_EPIS_TEST):\n",
        "        rewards.append(run_episode(for_training=False))\n",
        "\n",
        "    return np.mean(np.array(rewards))"
      ],
      "metadata": {
        "id": "w7DY4UGHUE19"
      },
      "execution_count": 16,
      "outputs": []
    },
    {
      "cell_type": "code",
      "execution_count": 18,
      "metadata": {
        "colab": {
          "base_uri": "https://localhost:8080/",
          "height": 469
        },
        "id": "VaxZtHtAPtnX",
        "outputId": "c28ca3cf-b3f2-4505-9ec3-c56b70559123"
      },
      "outputs": [
        {
          "output_type": "stream",
          "name": "stderr",
          "text": [
            "Avg reward: 0.497799 | Ewma reward: 0.513534: 100%|█| 200/200 [00:06<00:00, 32.9\n",
            "Avg reward: 0.498087 | Ewma reward: 0.520289: 100%|█| 200/200 [00:06<00:00, 30.6\n",
            "Avg reward: 0.493790 | Ewma reward: 0.515101: 100%|█| 200/200 [00:06<00:00, 31.1\n",
            "Avg reward: 0.497649 | Ewma reward: 0.512734: 100%|█| 200/200 [00:06<00:00, 30.7\n",
            "Avg reward: 0.508471 | Ewma reward: 0.527028: 100%|█| 200/200 [00:06<00:00, 31.2\n",
            "Avg reward: 0.487910 | Ewma reward: 0.518284: 100%|█| 200/200 [00:06<00:00, 30.9\n",
            "Avg reward: 0.498824 | Ewma reward: 0.511804: 100%|█| 200/200 [00:06<00:00, 29.7\n",
            "Avg reward: 0.502137 | Ewma reward: 0.532501: 100%|█| 200/200 [00:06<00:00, 31.4\n",
            "Avg reward: 0.499517 | Ewma reward: 0.507688: 100%|█| 200/200 [00:06<00:00, 31.2\n",
            "Avg reward: 0.493698 | Ewma reward: 0.507220: 100%|█| 200/200 [00:07<00:00, 27.1\n"
          ]
        },
        {
          "output_type": "display_data",
          "data": {
            "text/plain": [
              "<Figure size 432x288 with 1 Axes>"
            ],
            "image/png": "[encoded data removed]"
          },
          "metadata": {
            "needs_background": "light"
          }
        }
      ],
      "source": [
        "def run():\n",
        "    \"\"\"Returns array of test reward per epoch for one run\"\"\"\n",
        "    global q_func\n",
        "    q_func = np.zeros((NUM_ROOM_DESC, NUM_QUESTS, NUM_ACTIONS, NUM_OBJECTS))\n",
        "\n",
        "    single_run_epoch_rewards_test = []\n",
        "    pbar = tqdm(range(NUM_EPOCHS), ncols=80)\n",
        "    for _ in pbar:\n",
        "        single_run_epoch_rewards_test.append(run_epoch())\n",
        "        pbar.set_description(\n",
        "            \"Avg reward: {:0.6f} | Ewma reward: {:0.6f}\".format(\n",
        "                np.mean(single_run_epoch_rewards_test),\n",
        "                utils.ewma(single_run_epoch_rewards_test)))\n",
        "    return single_run_epoch_rewards_test\n",
        "\n",
        "\n",
        "if __name__ == '__main__':\n",
        "    # Data loading and build the dictionaries that use unique index for each state\n",
        "    (dict_room_desc, dict_quest_desc) = framework.make_all_states_index()\n",
        "    NUM_ROOM_DESC = len(dict_room_desc)\n",
        "    NUM_QUESTS = len(dict_quest_desc)\n",
        "\n",
        "    # set up the game\n",
        "    framework.load_game_data()\n",
        "\n",
        "    epoch_rewards_test = []  # shape NUM_RUNS * NUM_EPOCHS\n",
        "\n",
        "    for _ in range(NUM_RUNS):\n",
        "        epoch_rewards_test.append(run())\n",
        "\n",
        "    epoch_rewards_test = np.array(epoch_rewards_test)\n",
        "\n",
        "    x = np.arange(NUM_EPOCHS)\n",
        "    fig, axis = plt.subplots()\n",
        "    axis.plot(x, np.mean(epoch_rewards_test,\n",
        "                         axis=0))  # plot reward per epoch averaged per run\n",
        "    axis.set_xlabel('Epochs')\n",
        "    axis.set_ylabel('reward')\n",
        "    axis.set_title(('Tablular: nRuns=%d, Epilon=%.2f, Epi=%d, alpha=%.4f' %\n",
        "                    (NUM_RUNS, TRAINING_EP, NUM_EPIS_TRAIN, ALPHA)))\n",
        "    plt.grid(which=\"both\") \n",
        "    plt.minorticks_on()\n",
        "    plt.show()"
      ]
    }
  ]
}