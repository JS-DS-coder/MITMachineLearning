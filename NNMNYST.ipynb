{
  "nbformat": 4,
  "nbformat_minor": 0,
  "metadata": {
    "colab": {
      "name": "NNMNYST.ipynb",
      "provenance": [],
      "collapsed_sections": [],
      "authorship_tag": "ABX9TyPyFXtzI6pxuD62pkSWghn0",
      "include_colab_link": true
    },
    "kernelspec": {
      "name": "python3",
      "display_name": "Python 3"
    },
    "language_info": {
      "name": "python"
    }
  },
  "cells": [
    {
      "cell_type": "markdown",
      "metadata": {
        "id": "view-in-github",
        "colab_type": "text"
      },
      "source": [
        "<a href=\"https://colab.research.google.com/github/JS-DS-coder/MITMachineLearning/blob/main/NNMNYST.ipynb\" target=\"_parent\"><img src=\"https://colab.research.google.com/assets/colab-badge.svg\" alt=\"Open In Colab\"/></a>"
      ]
    },
    {
      "cell_type": "code",
      "execution_count": 11,
      "metadata": {
        "colab": {
          "base_uri": "https://localhost:8080/"
        },
        "id": "Rnmpyv94hM0I",
        "outputId": "56b534f0-aa9a-4c4f-b014-dd76b8de33aa"
      },
      "outputs": [
        {
          "output_type": "stream",
          "name": "stdout",
          "text": [
            "-------------\n",
            "Epoch 1:\n",
            "\n"
          ]
        },
        {
          "output_type": "stream",
          "name": "stderr",
          "text": [
            "100%|██████████| 1687/1687 [00:00<00:00, 1754.33it/s]\n"
          ]
        },
        {
          "output_type": "stream",
          "name": "stdout",
          "text": [
            "Train loss: 0.445684 | Train accuracy: 0.870758\n"
          ]
        },
        {
          "output_type": "stream",
          "name": "stderr",
          "text": [
            "100%|██████████| 187/187 [00:00<00:00, 4025.08it/s]\n"
          ]
        },
        {
          "output_type": "stream",
          "name": "stdout",
          "text": [
            "Val loss:   0.260342 | Val accuracy:   0.923630\n",
            "-------------\n",
            "Epoch 2:\n",
            "\n"
          ]
        },
        {
          "output_type": "stream",
          "name": "stderr",
          "text": [
            "100%|██████████| 1687/1687 [00:00<00:00, 1757.34it/s]\n"
          ]
        },
        {
          "output_type": "stream",
          "name": "stdout",
          "text": [
            "Train loss: 0.303323 | Train accuracy: 0.912289\n"
          ]
        },
        {
          "output_type": "stream",
          "name": "stderr",
          "text": [
            "100%|██████████| 187/187 [00:00<00:00, 4234.73it/s]\n"
          ]
        },
        {
          "output_type": "stream",
          "name": "stdout",
          "text": [
            "Val loss:   0.239971 | Val accuracy:   0.929479\n",
            "-------------\n",
            "Epoch 3:\n",
            "\n"
          ]
        },
        {
          "output_type": "stream",
          "name": "stderr",
          "text": [
            "100%|██████████| 1687/1687 [00:00<00:00, 1732.70it/s]\n"
          ]
        },
        {
          "output_type": "stream",
          "name": "stdout",
          "text": [
            "Train loss: 0.281178 | Train accuracy: 0.918920\n"
          ]
        },
        {
          "output_type": "stream",
          "name": "stderr",
          "text": [
            "100%|██████████| 187/187 [00:00<00:00, 4319.62it/s]\n"
          ]
        },
        {
          "output_type": "stream",
          "name": "stdout",
          "text": [
            "Val loss:   0.232849 | Val accuracy:   0.932152\n",
            "-------------\n",
            "Epoch 4:\n",
            "\n"
          ]
        },
        {
          "output_type": "stream",
          "name": "stderr",
          "text": [
            "100%|██████████| 1687/1687 [00:00<00:00, 1808.74it/s]\n"
          ]
        },
        {
          "output_type": "stream",
          "name": "stdout",
          "text": [
            "Train loss: 0.266577 | Train accuracy: 0.923088\n"
          ]
        },
        {
          "output_type": "stream",
          "name": "stderr",
          "text": [
            "100%|██████████| 187/187 [00:00<00:00, 4306.24it/s]\n"
          ]
        },
        {
          "output_type": "stream",
          "name": "stdout",
          "text": [
            "Val loss:   0.231824 | Val accuracy:   0.930983\n",
            "-------------\n",
            "Epoch 5:\n",
            "\n"
          ]
        },
        {
          "output_type": "stream",
          "name": "stderr",
          "text": [
            "100%|██████████| 1687/1687 [00:00<00:00, 1862.62it/s]\n"
          ]
        },
        {
          "output_type": "stream",
          "name": "stdout",
          "text": [
            "Train loss: 0.255165 | Train accuracy: 0.926460\n"
          ]
        },
        {
          "output_type": "stream",
          "name": "stderr",
          "text": [
            "100%|██████████| 187/187 [00:00<00:00, 3346.52it/s]\n"
          ]
        },
        {
          "output_type": "stream",
          "name": "stdout",
          "text": [
            "Val loss:   0.230423 | Val accuracy:   0.931317\n",
            "-------------\n",
            "Epoch 6:\n",
            "\n"
          ]
        },
        {
          "output_type": "stream",
          "name": "stderr",
          "text": [
            "100%|██████████| 1687/1687 [00:00<00:00, 1893.59it/s]\n"
          ]
        },
        {
          "output_type": "stream",
          "name": "stdout",
          "text": [
            "Train loss: 0.245930 | Train accuracy: 0.928442\n"
          ]
        },
        {
          "output_type": "stream",
          "name": "stderr",
          "text": [
            "100%|██████████| 187/187 [00:00<00:00, 4378.07it/s]\n"
          ]
        },
        {
          "output_type": "stream",
          "name": "stdout",
          "text": [
            "Val loss:   0.229930 | Val accuracy:   0.931150\n",
            "-------------\n",
            "Epoch 7:\n",
            "\n"
          ]
        },
        {
          "output_type": "stream",
          "name": "stderr",
          "text": [
            "100%|██████████| 1687/1687 [00:00<00:00, 1822.36it/s]\n"
          ]
        },
        {
          "output_type": "stream",
          "name": "stdout",
          "text": [
            "Train loss: 0.238349 | Train accuracy: 0.930702\n"
          ]
        },
        {
          "output_type": "stream",
          "name": "stderr",
          "text": [
            "100%|██████████| 187/187 [00:00<00:00, 5007.21it/s]\n"
          ]
        },
        {
          "output_type": "stream",
          "name": "stdout",
          "text": [
            "Val loss:   0.231337 | Val accuracy:   0.930648\n",
            "-------------\n",
            "Epoch 8:\n",
            "\n"
          ]
        },
        {
          "output_type": "stream",
          "name": "stderr",
          "text": [
            "100%|██████████| 1687/1687 [00:00<00:00, 1755.27it/s]\n"
          ]
        },
        {
          "output_type": "stream",
          "name": "stdout",
          "text": [
            "Train loss: 0.232550 | Train accuracy: 0.932276\n"
          ]
        },
        {
          "output_type": "stream",
          "name": "stderr",
          "text": [
            "100%|██████████| 187/187 [00:00<00:00, 4885.21it/s]\n"
          ]
        },
        {
          "output_type": "stream",
          "name": "stdout",
          "text": [
            "Val loss:   0.229597 | Val accuracy:   0.932487\n",
            "-------------\n",
            "Epoch 9:\n",
            "\n"
          ]
        },
        {
          "output_type": "stream",
          "name": "stderr",
          "text": [
            "100%|██████████| 1687/1687 [00:00<00:00, 1738.88it/s]\n"
          ]
        },
        {
          "output_type": "stream",
          "name": "stdout",
          "text": [
            "Train loss: 0.227751 | Train accuracy: 0.933888\n"
          ]
        },
        {
          "output_type": "stream",
          "name": "stderr",
          "text": [
            "100%|██████████| 187/187 [00:00<00:00, 5009.80it/s]\n"
          ]
        },
        {
          "output_type": "stream",
          "name": "stdout",
          "text": [
            "Val loss:   0.229607 | Val accuracy:   0.932487\n",
            "-------------\n",
            "Epoch 10:\n",
            "\n"
          ]
        },
        {
          "output_type": "stream",
          "name": "stderr",
          "text": [
            "100%|██████████| 1687/1687 [00:00<00:00, 1832.15it/s]\n"
          ]
        },
        {
          "output_type": "stream",
          "name": "stdout",
          "text": [
            "Train loss: 0.223966 | Train accuracy: 0.935147\n"
          ]
        },
        {
          "output_type": "stream",
          "name": "stderr",
          "text": [
            "100%|██████████| 187/187 [00:00<00:00, 3694.59it/s]\n"
          ]
        },
        {
          "output_type": "stream",
          "name": "stdout",
          "text": [
            "Val loss:   0.228388 | Val accuracy:   0.932487\n"
          ]
        },
        {
          "output_type": "stream",
          "name": "stderr",
          "text": [
            "100%|██████████| 312/312 [00:00<00:00, 4846.48it/s]"
          ]
        },
        {
          "output_type": "stream",
          "name": "stdout",
          "text": [
            "Loss on test set:0.267226935728477 Accuracy on test set: 0.9204727564102564\n"
          ]
        },
        {
          "output_type": "stream",
          "name": "stderr",
          "text": [
            "\n"
          ]
        }
      ],
      "source": [
        "\n",
        "import _pickle as cPickle, gzip\n",
        "import numpy as np\n",
        "from tqdm import tqdm\n",
        "import torch\n",
        "import torch.autograd as autograd\n",
        "import torch.nn.functional as F\n",
        "import torch.nn as nn\n",
        "import sys\n",
        "sys.path.append(\"..\")\n",
        "import utils\n",
        "from utils import *\n",
        "from train_utils import batchify_data, run_epoch, train_model\n",
        "\n",
        "\n",
        "def get_MNIST_data1():\n",
        "    \"\"\"\n",
        "    Reads mnist dataset from file\n",
        "\n",
        "    Returns:\n",
        "        train_x - 2D Numpy array (n, d) where each row is an image\n",
        "        train_y - 1D Numpy array (n, ) where each row is a label\n",
        "        test_x  - 2D Numpy array (n, d) where each row is an image\n",
        "        test_y  - 1D Numpy array (n, ) where each row is a label\n",
        "\n",
        "    \"\"\"\n",
        "    train_set, valid_set, test_set = read_pickle_data('mnist.pkl.gz')\n",
        "    train_x, train_y = train_set\n",
        "    valid_x, valid_y = valid_set\n",
        "    train_x = np.vstack((train_x, valid_x))\n",
        "    train_y = np.append(train_y, valid_y)\n",
        "    test_x, test_y = test_set\n",
        "    return (train_x, train_y, test_x, test_y)\n",
        "\n",
        "def main():\n",
        "    # Load the dataset\n",
        "    num_classes = 10\n",
        "    X_train, y_train, X_test, y_test = get_MNIST_data1()\n",
        "\n",
        "    # Split into train and dev\n",
        "    dev_split_index = int(9 * len(X_train) / 10)\n",
        "    X_dev = X_train[dev_split_index:]\n",
        "    y_dev = y_train[dev_split_index:]\n",
        "    X_train = X_train[:dev_split_index]\n",
        "    y_train = y_train[:dev_split_index]\n",
        "\n",
        "    permutation = np.array([i for i in range(len(X_train))])\n",
        "    np.random.shuffle(permutation)\n",
        "    X_train = [X_train[i] for i in permutation]\n",
        "    y_train = [y_train[i] for i in permutation]\n",
        "\n",
        "    # Split dataset into batches\n",
        "    batch_size = 32\n",
        "    train_batches = batchify_data(X_train, y_train, batch_size)\n",
        "    dev_batches = batchify_data(X_dev, y_dev, batch_size)\n",
        "    test_batches = batchify_data(X_test, y_test, batch_size)\n",
        "\n",
        "    #################################\n",
        "    ## Model specification TODO\n",
        "    model = nn.Sequential(\n",
        "              nn.Linear(784, 10),\n",
        "              #nn.LeakyReLU(0.01),\n",
        "              nn.ReLU(),\n",
        "              nn.Linear(10, 10),\n",
        "            )\n",
        "    lr=0.1\n",
        "    momentum=0\n",
        "    ##################################\n",
        "\n",
        "    train_model(train_batches, dev_batches, model, lr=lr, momentum=momentum)\n",
        "\n",
        "    ## Evaluate the model on test data\n",
        "    loss, accuracy = run_epoch(test_batches, model.eval(), None)\n",
        "\n",
        "    print (\"Loss on test set:\"  + str(loss) + \" Accuracy on test set: \" + str(accuracy))\n",
        "\n",
        "\n",
        "if __name__ == '__main__':\n",
        "    # Specify seed for deterministic behavior, then shuffle. Do not change seed for official submissions to edx\n",
        "    np.random.seed(12321)  # for reproducibility\n",
        "    torch.manual_seed(12321)  # for reproducibility\n",
        "    main()\n"
      ]
    },
    {
      "cell_type": "code",
      "source": [
        ""
      ],
      "metadata": {
        "id": "54MCS7owmj33"
      },
      "execution_count": null,
      "outputs": []
    }
  ]
}